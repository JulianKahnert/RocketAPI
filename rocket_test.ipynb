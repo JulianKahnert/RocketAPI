{
 "cells": [
  {
   "cell_type": "code",
   "execution_count": null,
   "metadata": {
    "collapsed": false
   },
   "outputs": [],
   "source": [
    "%load_ext autoreload\n",
    "%autoreload 2\n",
    "\n",
    "import random\n",
    "import numpy as np\n",
    "from rocket import R60V\n",
    "from rocket_state import machine_state"
   ]
  },
  {
   "cell_type": "code",
   "execution_count": null,
   "metadata": {
    "collapsed": false
   },
   "outputs": [],
   "source": [
    "# test pressure profile properties\n",
    "obj = machine_state();\n",
    "\n",
    "print(obj.pressureA)\n",
    "tmp = obj.pressureA\n",
    "tmp[0][0] = 0\n",
    "tmp[0][1] = 2000\n",
    "obj.pressureA = tmp\n",
    "\n",
    "print(obj.pressureA)"
   ]
  },
  {
   "cell_type": "code",
   "execution_count": null,
   "metadata": {
    "collapsed": false
   },
   "outputs": [],
   "source": [
    "state = machine_state();\n",
    "\n",
    "print(state.language)\n",
    "print(state.temperatureUnit)\n",
    "print(state.waterSource)\n",
    "print(state.pressureA)\n",
    "print(state.pressureB)\n",
    "print(state.pressureC)\n",
    "\n",
    "state.evaluate_state()\n",
    "\n",
    "dir(state)"
   ]
  }
 ],
 "metadata": {
  "anaconda-cloud": {},
  "kernelspec": {
   "display_name": "Python [Root]",
   "language": "python",
   "name": "Python [Root]"
  },
  "language_info": {
   "codemirror_mode": {
    "name": "ipython",
    "version": 3
   },
   "file_extension": ".py",
   "mimetype": "text/x-python",
   "name": "python",
   "nbconvert_exporter": "python",
   "pygments_lexer": "ipython3",
   "version": "3.5.2"
  }
 },
 "nbformat": 4,
 "nbformat_minor": 0
}
