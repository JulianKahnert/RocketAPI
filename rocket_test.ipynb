{
 "cells": [
  {
   "cell_type": "code",
   "execution_count": null,
   "metadata": {
    "collapsed": false
   },
   "outputs": [],
   "source": [
    "%load_ext autoreload\n",
    "%autoreload 2\n",
    "\n",
    "import random\n",
    "import numpy as np\n",
    "from rocket import R60V\n",
    "from rocket_state import machine_state"
   ]
  },
  {
   "cell_type": "code",
   "execution_count": null,
   "metadata": {
    "collapsed": false
   },
   "outputs": [],
   "source": [
    "# test pressure profile properties\n",
    "state = machine_state();\n",
    "\n",
    "print(state.pressureA)\n",
    "tmp = state.pressureA\n",
    "tmp[0][0] = 1\n",
    "tmp[0][1] = 2000\n",
    "state.pressureA = tmp\n",
    "\n",
    "state.evaluate_state()\n",
    "\n",
    "print(state.pressureA)"
   ]
  },
  {
   "cell_type": "code",
   "execution_count": null,
   "metadata": {
    "collapsed": false
   },
   "outputs": [],
   "source": [
    "state = machine_state();\n",
    "\n",
    "print(state.language)\n",
    "print(state.temperatureUnit)\n",
    "print(state.waterSource)\n",
    "print(state.pressureA)\n",
    "print(state.pressureB)\n",
    "print(state.pressureC)"
   ]
  },
  {
   "cell_type": "code",
   "execution_count": null,
   "metadata": {
    "collapsed": false
   },
   "outputs": [],
   "source": [
    "# str => bytes\n",
    "bt_array = bytearray.fromhex('FFCC33')\n",
    "print(bt_array)\n",
    "for sz in bt_array:\n",
    "    print(hex(sz))\n",
    "\n",
    "# bytes => str\n",
    "msg = b'FFCC33'\n",
    "msg = msg.decode(\"utf-8\") \n",
    "print(msg)"
   ]
  }
 ],
 "metadata": {
  "anaconda-cloud": {},
  "kernelspec": {
   "display_name": "Python [Root]",
   "language": "python",
   "name": "Python [Root]"
  },
  "language_info": {
   "codemirror_mode": {
    "name": "ipython",
    "version": 3
   },
   "file_extension": ".py",
   "mimetype": "text/x-python",
   "name": "python",
   "nbconvert_exporter": "python",
   "pygments_lexer": "ipython3",
   "version": "3.5.2"
  }
 },
 "nbformat": 4,
 "nbformat_minor": 0
}
