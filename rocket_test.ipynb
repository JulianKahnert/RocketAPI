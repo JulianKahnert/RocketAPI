{
 "cells": [
  {
   "cell_type": "code",
   "execution_count": null,
   "metadata": {
    "collapsed": false
   },
   "outputs": [],
   "source": [
    "%load_ext autoreload\n",
    "%autoreload 2\n",
    "\n",
    "import random\n",
    "from rocket import R60V"
   ]
  },
  {
   "cell_type": "code",
   "execution_count": null,
   "metadata": {
    "collapsed": false
   },
   "outputs": [],
   "source": [
    "# UNIT TEST: checksums (from Checksum.unit.ts)\n",
    "obj = R60V()\n",
    "\n",
    "# Checksum: known messages\n",
    "raw01 = 'r00000073'              # should be 'FC'\n",
    "raw02 = 'rB0000050'              # should be '09'\n",
    "raw03 = 'w00000064OK'            # should be '9B'\n",
    "\n",
    "raw04 = 'Checksum calculation 1' # should be '33'\n",
    "raw05 = 'Checksum calculation 2' # should be '34'\n",
    "raw06 = 'Checksum calculation 3' # should be '35'\n",
    "raw07 = 'Checksum calculation 4' # should be '36'\n",
    "raw09 = 'Checksum calculation 5' # should be '37'\n",
    "raw10 = 'Checksum calculation 6' # should be '38'\n",
    "raw11 = 'Checksum calculation 7' # should be '39'\n",
    "raw12 = 'Checksum calculation 8' # should be '3A'\n",
    "raw13 = 'Checksum calculation 9' # should be '3B'\n",
    "# Checksum: overflow\n",
    "raw14 = 'checksums overflow gracefully 1' # should be 'F9'\n",
    "raw15 = 'checksums overflow gracefully 2' # should be 'FA'\n",
    "raw16 = 'checksums overflow gracefully 3' # should be 'FB'\n",
    "raw17 = 'checksums overflow gracefully 4' # should be 'FC'\n",
    "raw18 = 'checksums overflow gracefully 5' # should be 'FD'\n",
    "raw19 = 'checksums overflow gracefully 6' # should be 'FE'\n",
    "raw20 = 'checksums overflow gracefully 7' # should be 'FF'\n",
    "raw21 = 'checksums overflow gracefully 8' # should be '00'\n",
    "raw22 = 'checksums overflow gracefully 9' # should be '01'\n",
    "# Checksum: empty message\n",
    "raw23 = '' # should be '00'\n",
    "print(obj.checksum(raw23))\n",
    "\n",
    "# Checksum should handle really long strings\n",
    "raw23 = 'some-thing' * 1000  # should be '78'\n",
    "print(obj.checksum(raw23) == '78')\n",
    "\n",
    "# Checksum should be insensitive to byte order\n",
    "components = 'abcdefghijklmnopqrstuvwxyz0123456789'\n",
    "components_shuffled = ''.join(random.sample(components,len(components)))\n",
    "print(obj.checksum(components) == obj.checksum(cmp_shuffled))\n",
    "\n",
    "# UNIT TEST: verification\n",
    "msg02 = 'F00DS0DA33'    # invalid message - should be: False\n",
    "msg03 = 'r00000073FF'   # tweaked checksums to be wrong - should be: false\n",
    "msg04 = 'rB0000050FF'   # tweaked checksums to be wrong - should be: false\n",
    "msg05 = 'w00000064OKFF' # tweaked checksums to be wrong - should be: false\n",
    "print(obj.cs_verify(msg01))"
   ]
  }
 ],
 "metadata": {
  "anaconda-cloud": {},
  "kernelspec": {
   "display_name": "Python [Root]",
   "language": "python",
   "name": "Python [Root]"
  },
  "language_info": {
   "codemirror_mode": {
    "name": "ipython",
    "version": 3
   },
   "file_extension": ".py",
   "mimetype": "text/x-python",
   "name": "python",
   "nbconvert_exporter": "python",
   "pygments_lexer": "ipython3",
   "version": "3.5.2"
  }
 },
 "nbformat": 4,
 "nbformat_minor": 0
}
